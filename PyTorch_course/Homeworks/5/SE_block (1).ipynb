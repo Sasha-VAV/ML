{
  "nbformat": 4,
  "nbformat_minor": 0,
  "metadata": {
    "colab": {
      "provenance": []
    },
    "kernelspec": {
      "name": "python3",
      "display_name": "Python 3"
    },
    "language_info": {
      "name": "python"
    }
  },
  "cells": [
    {
      "cell_type": "markdown",
      "source": [
        "План семинара **\"Реализация собственных операторов на языке Python в фреймворке Pytorch\"**\n",
        "1. [Squeeze-and-Excitation (SE) Block](https://arxiv.org/abs/1709.01507)\n",
        "2. [Selective Kernel (SK) Convolution](https://arxiv.org/abs/1903.06586)"
      ],
      "metadata": {
        "id": "vtKLj3EjRVAT"
      }
    },
    {
      "cell_type": "markdown",
      "source": [
        "# Squeeze-and-Excitation (SE) Block"
      ],
      "metadata": {
        "id": "w_AuOxMxTb-5"
      }
    },
    {
      "cell_type": "markdown",
      "source": [
        "“Squeeze-and-Excitation” (SE) block can adaptively recalibrates\n",
        "channel-wise feature responses by explicitly modelling interdependencies between channels."
      ],
      "metadata": {
        "id": "WtU5GEDETgWF"
      }
    },
    {
      "cell_type": "code",
      "source": [
        "from einops import rearrange, reduce"
      ],
      "metadata": {
        "id": "bIbZzPzwAMsT"
      },
      "execution_count": null,
      "outputs": []
    },
    {
      "cell_type": "code",
      "source": [
        "import torch\n",
        "from torch import nn\n",
        "\n",
        "class SEBlock(nn.Module):\n",
        "    \"\"\"\n",
        "    Implementation of the Squeeze-and-Excitation (SE) block proposed in [1].\n",
        "    Parameters\n",
        "    ----------\n",
        "    in_channels : int\n",
        "        Number of channels in the input tensor.\n",
        "    reduction : int, optional, default=16\n",
        "        Reduction ratio to control the intermediate channel dimension.\n",
        "    References\n",
        "    ----------\n",
        "    1. \"`Squeeze-and-Excitation Networks. <https://arxiv.org/abs/1709.01507>`_\" Jie Hu, et al. CVPR 2018.\n",
        "    \"\"\"\n",
        "\n",
        "    def __init__(\n",
        "        self,\n",
        "        in_channels: int,\n",
        "        reduction: int = 16\n",
        "    ) -> None:\n",
        "        super(SEBlock, self).__init__()\n",
        "\n",
        "        out_channels = in_channels // reduction\n",
        "        self.squeeze = nn.AdaptiveAvgPool2d((1,1))\n",
        "\n",
        "        self.excitation = nn.Sequential(\n",
        "            nn.Conv2d(in_channels, out_channels, 1),\n",
        "            # nn.Linear(in_channels, out_channels),\n",
        "            nn.ReLU(),\n",
        "            nn.Conv2d(out_channels, in_channels, 1),\n",
        "            # nn.Linear(out_channels, in_channels),\n",
        "            nn.Sigmoid()\n",
        "        )\n",
        "\n",
        "    def forward(self, x: torch.Tensor) -> torch.Tensor:\n",
        "        \"\"\"\n",
        "        Parameters\n",
        "        ----------\n",
        "        x : torch.Tensor (batch_size, in_channels, height, width)\n",
        "            Input tensor.\n",
        "        Returns\n",
        "        -------\n",
        "        out : torch.Tensor (batch_size, in_channels, height, width)\n",
        "            Output of the SK convolution layer.\n",
        "        \"\"\"\n",
        "\n",
        "        \"\"\"Tasks:\n",
        "        2. avg pooling by einops\n",
        "        3. torch layer to use linear layer without reshaping\n",
        "        \"\"\"\n",
        "        # x: [b, c, h, w]\n",
        "\n",
        "        # z = self.squeeze(x) # eq.2 [b, c, 1, 1]\n",
        "        # z = torch.reshape(z, (z.shape[0], -1,))\n",
        "        z = reduce(x, 'b c h w -> b c () ()', 'mean')\n",
        "        print(z.shape)\n",
        "        # z = rearrange(z, 'b c h w -> b (c h w)')\n",
        "        print(z.shape)\n",
        "        s = self.excitation(z) # eq.3 [b, c, 1, 1]\n",
        "        # s = torch.reshape(z, (z.shape[0], z.shape[1], 1, 1))\n",
        "        # s = rearrange(s, 'b (c h w) -> b c h w', h=1, w=1)\n",
        "        print(s.shape)\n",
        "        out = x * s # eq. 4 [b, c, h, w]\n",
        "        return out"
      ],
      "metadata": {
        "id": "X_mydDHhTfmE"
      },
      "execution_count": null,
      "outputs": []
    },
    {
      "cell_type": "code",
      "source": [
        "features = torch.rand(2, 32, 25, 25)\n",
        "out = SEBlock(32)\n",
        "out(features).shape"
      ],
      "metadata": {
        "colab": {
          "base_uri": "https://localhost:8080/"
        },
        "id": "aOHbgJ_HVDnT",
        "outputId": "2e8452a2-a0e2-47fb-b599-6776319af4d1"
      },
      "execution_count": null,
      "outputs": [
        {
          "output_type": "stream",
          "name": "stdout",
          "text": [
            "torch.Size([2, 32, 1, 1])\n",
            "torch.Size([2, 32, 1, 1])\n",
            "torch.Size([2, 32, 1, 1])\n"
          ]
        },
        {
          "output_type": "execute_result",
          "data": {
            "text/plain": [
              "torch.Size([2, 32, 25, 25])"
            ]
          },
          "metadata": {},
          "execution_count": 75
        }
      ]
    },
    {
      "cell_type": "markdown",
      "source": [
        "# Selective Kernel (SK) Convolution"
      ],
      "metadata": {
        "id": "pn6zgoRbTeHv"
      }
    },
    {
      "cell_type": "markdown",
      "source": [
        "To enable the neurons to adaptively adjust their RF sizes,\n",
        "we propose an automatic selection operation, “Selective\n",
        "Kernel” (SK) convolution, among multiple kernels with different kernel sizes"
      ],
      "metadata": {
        "id": "q9n-ayyPeikO"
      }
    },
    {
      "cell_type": "code",
      "source": [
        "import torch\n",
        "from torch import nn\n",
        "from typing import List, Optional\n",
        "\n",
        "class SKConv(nn.Module):\n",
        "    \"\"\"\n",
        "    Implementation of the Selective Kernel (SK) Convolution proposed in [1].\n",
        "    Parameters\n",
        "    ----------\n",
        "    in_channels : int\n",
        "        Number of channels in the input tensor.\n",
        "    out_channels : int\n",
        "        Number of channels produced by the convolution.\n",
        "    kernels : List[int], optional, default=[3, 5]\n",
        "        List of kernel sizes for each branch.\n",
        "    reduction : int, optional, default=16\n",
        "        Reduction ratio to control the dimension of \"compact feature\" ``z`` (see eq.4).\n",
        "    L : int, optional, default=32\n",
        "        Minimal value of the dimension of \"compact feature\" ``z`` (see eq.4).\n",
        "    groups : int, optional, default=32\n",
        "        Hyperparameter for ``torch.nn.Conv2d``.\n",
        "    References\n",
        "    ----------\n",
        "    1. \"`Selective Kernel Networks. <https://arxiv.org/abs/1903.06586>`_\" Xiang Li, et al. CVPR 2019.\n",
        "    \"\"\"\n",
        "\n",
        "    def __init__(\n",
        "        self,\n",
        "        in_channels: int,\n",
        "        out_channels: Optional[int] = None,\n",
        "        kernels: List[int] = [3, 5],\n",
        "        reduction: int = 16,\n",
        "        L: int = 32,\n",
        "        groups: int = 32\n",
        "    ) -> None:\n",
        "        super(SKConv, self).__init__()\n",
        "\n",
        "        if out_channels is None:\n",
        "            out_channels = in_channels\n",
        "        self.out_channels = out_channels\n",
        "\n",
        "        self.d = max(in_channels // reduction, L) # eq.4\n",
        "\n",
        "        self.M = len(kernels)\n",
        "\n",
        "        self.convs = nn.ModuleList([\n",
        "                nn.Sequential(\n",
        "                  nn.Conv2d(\n",
        "                      in_channels,\n",
        "                      out_channels,\n",
        "                      3,\n",
        "                      dilation=k//2,\n",
        "                      padding=k//2\n",
        "                      )\n",
        "\n",
        "            )\n",
        "            for k in kernels\n",
        "        ])\n",
        "\n",
        "        self.pool = nn.AdaptiveAvgPool2d((1, 1))\n",
        "\n",
        "        self.fc_z = nn.Sequential(\n",
        "            nn.Linear(out_channels, self.d),\n",
        "            nn.BatchNorm1d(self.d),\n",
        "            nn.ReLU()\n",
        "        )\n",
        "        self.fc_attn = nn.Linear(self.d, out_channels)\n",
        "        # Why nn.Softmax(...)???? Cause Softmax does not have any args except dim\n",
        "        self.softmax = nn.Softmax(dim=2)\n",
        "\n",
        "    def forward(self, x: torch.Tensor) -> torch.Tensor:\n",
        "        \"\"\"\n",
        "        Parameters\n",
        "        ----------\n",
        "        x : torch.Tensor (batch_size, in_channels, height, width)\n",
        "            Input tensor.\n",
        "        Returns\n",
        "        -------\n",
        "        out : torch.Tensor (batch_size, out_channels, height, width)\n",
        "            Output of the SK convolution layer.\n",
        "        \"\"\"\n",
        "        #Conv2d , AvgPoll, softmax, ReLU, BatchNorm, Linear\n",
        "\n",
        "        # ----- split -----\n",
        "        # x: [b, c, h, w]\n",
        "        feats = torch.unsqueeze(x, 1).repeat(1, self.M, 1, 1, 1)  # [b, M, c, h, w]\n",
        "        print(feats.shape)\n",
        "        # ----- fuse -----\n",
        "        # eq.1\n",
        "        U = torch.zeros_like(x)\n",
        "        for i in range(self.M):\n",
        "          U += self.convs[i].forward(feats[:, i, :, :, :])\n",
        "        print(U.shape)\n",
        "        # channel-wise statistics, eq.2\n",
        "        s = self.pool(U) #s: [b, c]\n",
        "        # compact feature, eq.3\n",
        "        print(s.shape)\n",
        "        s = s.reshape(s.shape[0], s.shape[1])\n",
        "        z = self.fc_z.forward(s) # z [b, d]\n",
        "        print(z.shape)\n",
        "\n",
        "        # ----- select -----\n",
        "        batch_size, out_channels = s.shape\n",
        "\n",
        "        # attention map, eq.5\n",
        "        z = self.fc_attn(z)\n",
        "        print(z.shape)\n",
        "        score = torch.unsqueeze(z, 1).repeat(1, self.M, 1)  # (batch_size, M * out_channels)\n",
        "        score = score.reshape(batch_size, self.M, out_channels, 1, 1)  # (batch_size, M, out_channels, 1, 1)\n",
        "        att = self.softmax(score)\n",
        "        print(score.shape)\n",
        "        print(att.shape)\n",
        "\n",
        "        # fuse multiple branches, eq.6\n",
        "        out = torch.zeros_like(x)  # (batch_size, out_channels, height, width)\n",
        "        for i in range(self.M):\n",
        "          out += feats[:, i, :, :, :] * att[:, i, :, :, :]\n",
        "        return out"
      ],
      "metadata": {
        "id": "q73b0ujBVC6Q"
      },
      "execution_count": null,
      "outputs": []
    },
    {
      "cell_type": "code",
      "source": [
        "features = torch.rand(1, 34*16, 25, 25)\n",
        "SKConv(34*16)\n",
        "out = SKConv(34*16).eval()\n",
        "out(features).shape"
      ],
      "metadata": {
        "id": "cmcAyPakUdoA",
        "colab": {
          "base_uri": "https://localhost:8080/"
        },
        "outputId": "fedaa9aa-1bce-4d6b-ec3b-0a86b1a7d208"
      },
      "execution_count": null,
      "outputs": [
        {
          "output_type": "stream",
          "name": "stdout",
          "text": [
            "torch.Size([1, 2, 544, 25, 25])\n",
            "torch.Size([1, 544, 25, 25])\n",
            "torch.Size([1, 544, 1, 1])\n",
            "torch.Size([1, 34])\n",
            "torch.Size([1, 544])\n",
            "torch.Size([1, 2, 544, 1, 1])\n",
            "torch.Size([1, 2, 544, 1, 1])\n"
          ]
        },
        {
          "output_type": "execute_result",
          "data": {
            "text/plain": [
              "torch.Size([1, 544, 25, 25])"
            ]
          },
          "metadata": {},
          "execution_count": 118
        }
      ]
    },
    {
      "cell_type": "code",
      "source": [
        "n = nn.Conv2d(3, 3, kernel_size=3)\n",
        "n.weight.shape"
      ],
      "metadata": {
        "colab": {
          "base_uri": "https://localhost:8080/"
        },
        "id": "BNKG8vIKeKNg",
        "outputId": "564e616b-7047-434f-b4ed-e0ed88c9314e"
      },
      "execution_count": null,
      "outputs": [
        {
          "output_type": "execute_result",
          "data": {
            "text/plain": [
              "torch.Size([3, 3, 3, 3])"
            ]
          },
          "metadata": {},
          "execution_count": 119
        }
      ]
    },
    {
      "cell_type": "code",
      "source": [
        "n = nn.Conv2d(3, 3, kernel_size=3, groups=3)\n",
        "n.weight.shape"
      ],
      "metadata": {
        "colab": {
          "base_uri": "https://localhost:8080/"
        },
        "id": "Ph1iTPZda_cB",
        "outputId": "8c7d29f8-7f8a-49e8-962a-bc2c6fc2654f"
      },
      "execution_count": null,
      "outputs": [
        {
          "output_type": "execute_result",
          "data": {
            "text/plain": [
              "torch.Size([3, 1, 3, 3])"
            ]
          },
          "metadata": {},
          "execution_count": 120
        }
      ]
    },
    {
      "cell_type": "code",
      "source": [
        "features = torch.rand(1, 3, 25, 25)\n",
        "n(features).shape"
      ],
      "metadata": {
        "colab": {
          "base_uri": "https://localhost:8080/"
        },
        "id": "lZL-49lsbDql",
        "outputId": "187421a6-6872-4c1b-9c14-6e79ff50cb9e"
      },
      "execution_count": null,
      "outputs": [
        {
          "output_type": "execute_result",
          "data": {
            "text/plain": [
              "torch.Size([1, 3, 23, 23])"
            ]
          },
          "metadata": {},
          "execution_count": 121
        }
      ]
    },
    {
      "cell_type": "code",
      "source": [],
      "metadata": {
        "id": "xH1GgjM-z3Rv"
      },
      "execution_count": null,
      "outputs": []
    }
  ]
}
